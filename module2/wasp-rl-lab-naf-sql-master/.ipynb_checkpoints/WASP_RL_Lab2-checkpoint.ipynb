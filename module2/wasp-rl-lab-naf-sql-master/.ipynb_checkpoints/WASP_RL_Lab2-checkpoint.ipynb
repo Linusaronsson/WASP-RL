{
 "cells": [
  {
   "cell_type": "markdown",
   "id": "4b17077a",
   "metadata": {
    "id": "4b17077a"
   },
   "source": [
    "# WASP RL - Meeting 2 - Lab assignment on NAF  and SQL\n",
    "\n",
    "In this lab we implement and experiment with NAF and SQL, both algorithms we learned about in the course and both can deal with continuous state **and** action spaces. Both algorithms employ deep neural networks for function approximation. To do this assignment, you will need to work with PyTorch, a popular framework for developing neural networks. When forming groups, make sure that at least one group member if comfortable with PyTorch and its most common tensor operations.\n",
    "\n",
    "This notebook has been created specifically for this course and this session by *Finn Rietz* and *Johannes A. Stork*, we hope you enjoy the lab :)"
   ]
  },
  {
   "cell_type": "code",
   "execution_count": null,
   "id": "6d6ad1ad",
   "metadata": {
    "colab": {
     "base_uri": "https://localhost:8080/"
    },
    "id": "6d6ad1ad",
    "outputId": "dee712b2-d6e4-48b6-b7f8-5a278a738de5"
   },
   "outputs": [],
   "source": [
    "# install requirements if needed\n",
    "import sys\n",
    "!{sys.executable} -m pip install gym[classic_control]==0.26.2 numpy==1.23.0 matplotlib==3.1.2 \n",
    "!{sys.executable} -m pip install torch==1.12.0 torchaudio==0.12.0 torchvision==0.13.0 scipy==1.3.3"
   ]
  },
  {
   "cell_type": "code",
   "execution_count": 1,
   "id": "c74086c2",
   "metadata": {
    "colab": {
     "base_uri": "https://localhost:8080/"
    },
    "id": "c74086c2",
    "outputId": "aedf6514-5f8c-4c62-b02a-968265f2a195"
   },
   "outputs": [
    {
     "name": "stdout",
     "output_type": "stream",
     "text": [
      "torch device: cpu\n"
     ]
    }
   ],
   "source": [
    "import gym\n",
    "import numpy as np\n",
    "import matplotlib.pyplot as plt\n",
    "from scipy.stats import kde\n",
    "import random\n",
    "%matplotlib inline\n",
    "plt.rcParams['figure.dpi'] = 100\n",
    "\n",
    "import torch\n",
    "import torch.nn as nn\n",
    "from torch.distributions import MultivariateNormal\n",
    "from torch.optim import Adam\n",
    "\n",
    "DEVICE = torch.device('cuda') if torch.cuda.is_available() else torch.device(\"cpu\")\n",
    "print(f\"torch device: {DEVICE}\")\n",
    "\n",
    "from buffer import ReplayBuffer\n",
    "from utils import presample_env, transform_action, smooth, obs_transform, OUNoise, rbf_kernel2\n",
    "from env_v2 import MultiGoalEnv\n",
    "from network import MLP\n",
    "from plotting import plot_loss, plot_reward"
   ]
  },
  {
   "cell_type": "code",
   "execution_count": 2,
   "id": "84bfefab",
   "metadata": {
    "id": "84bfefab"
   },
   "outputs": [],
   "source": [
    "torch.manual_seed(0)\n",
    "random.seed(0)\n",
    "np.random.seed(0)"
   ]
  },
  {
   "cell_type": "markdown",
   "id": "3eafad94",
   "metadata": {
    "id": "3eafad94"
   },
   "source": [
    "# NAF\n",
    "We start with NAF. From the paper, we know that the value $V(\\mathbf{x} | \\theta)$, the action $\\mathbf{\\mu(x|}\\theta)$, and the matrix entries $\\mathbf{L(x}|\\theta)$ are being approximated by neural networks. Its easiest to just have one a single neural network with multiple output heads for each quantity. As a first step, **adjust the code below so that the network outputs the desired values**. This involves making output layers for each quantity and implementing the equations for $Q(x,u)|\\theta)$ and $A(x, u |\\theta)$ in the forward pass of the neural network:\n",
    "![NAF quantities](notebook_imgs/NAF_quantities.png)"
   ]
  },
  {
   "cell_type": "code",
   "execution_count": 3,
   "id": "bffe14dc",
   "metadata": {
    "id": "bffe14dc"
   },
   "outputs": [],
   "source": [
    "class NAFNetwork(nn.Module):\n",
    "    def __init__(self, state_size, action_size, layer_size):\n",
    "        super(NAFNetwork, self).__init__()\n",
    "        self.action_size = action_size\n",
    "\n",
    "        self.fc_0 = nn.Linear(state_size, layer_size)\n",
    "        self.fc_1 = nn.Linear(layer_size, layer_size)\n",
    "        self.fc_2 = nn.Linear(layer_size, layer_size)\n",
    "        \n",
    "        # TODO: make output layers\n",
    "        # HINT: The number of entries in a (not-strictly) lower-triangular n x n matrix is: n * (n + 1) / 2\n",
    "        self.mu_head = nn.Linear(layer_size, action_size)\n",
    "        self.v_head = nn.Linear(layer_size, 1)\n",
    "        self.mat_head = nn.Linear(layer_size, int(self.action_size*(self.action_size+1)/2))\n",
    "\n",
    "    def forward(self, state, action=None):\n",
    "        \"\"\"\n",
    "        Forward pass of Normalized Advantage Function\n",
    "        Returns the noisy exploration action, Q(s, a), V(s), and the greedy, non-noisy action\n",
    "        \"\"\"\n",
    "        # get latent representation\n",
    "        x = torch.relu(self.fc_0(state))\n",
    "        x = torch.relu(self.fc_1(x))\n",
    "        x = torch.relu(self.fc_2(x))\n",
    "        \n",
    "        # TODO predict the action mu, the value v and the matrix entries\n",
    "        greedy_action = self.mu_head(x)\n",
    "        V = self.v_head(x)\n",
    "        entries = torch.tanh(self.mat_head(x))\n",
    "\n",
    "        greedy_action = greedy_action.unsqueeze(-1)\n",
    "        \n",
    "        # TODO: calculate P\n",
    "        # create empty lower-triangular matrix\n",
    "        L = torch.zeros((state.shape[0], self.action_size, self.action_size)).to(DEVICE)\n",
    "\n",
    "        # get lower triagular indices\n",
    "        tril_indices = torch.tril_indices(row=self.action_size, col=self.action_size, offset=0)  \n",
    "\n",
    "        # fill matrix with entries\n",
    "        L[:, tril_indices[0], tril_indices[1]] = entries\n",
    "        # exponentiate diagonal terms\n",
    "        L.diagonal(dim1=1,dim2=2).exp_()\n",
    "\n",
    "        # calculate state-dependent, positive-definite square matrix\n",
    "        P = L*L.transpose(2, 1)\n",
    "        \n",
    "        # if an action is given (during batch update), calculate Q\n",
    "        Q = None\n",
    "        if action is not None:\n",
    "            # calculate Advantage:\n",
    "            A = (-0.5 * torch.matmul(torch.matmul((action.unsqueeze(-1) - greedy_action).transpose(2, 1), P), (action.unsqueeze(-1) - greedy_action))).squeeze(-1)\n",
    "            Q = A + V\n",
    "\n",
    "        # add noise to the greedy action, for exploration in continuous action space\n",
    "        dist = MultivariateNormal(greedy_action.squeeze(-1), torch.inverse(P))\n",
    "        action = dist.sample()\n",
    "        noisy_action = torch.clamp(action, min=-2, max=2)\n",
    "        \n",
    "        return noisy_action, Q, V, greedy_action"
   ]
  },
  {
   "cell_type": "markdown",
   "id": "210dc190",
   "metadata": {
    "id": "210dc190"
   },
   "source": [
    "Next, we make a class for the NAF agent, that will hold an instance of the above class for the neural network. The agent also implements an update method that updates the parameters of the neural network networka and a rollout method. Fortunately, the NAF update is straightforward, since it directly minimizes the TD error. **In the below cell, in the `update` method, compute the loss as described in the algorithm**. The update method alongside the rollout method essentially implement the entire NAF algorithm:\n",
    "![NAF algorithm](notebook_imgs/NAF_algo.png)"
   ]
  },
  {
   "cell_type": "code",
   "execution_count": 4,
   "id": "14c461d8",
   "metadata": {
    "id": "14c461d8"
   },
   "outputs": [],
   "source": [
    "class NAFAgent:\n",
    "    def __init__(self, n_states, n_actions, buffer, net_size, gamma, tau, lr):\n",
    "        \"\"\"\n",
    "        @param n_states: The dimensionality of the state space\n",
    "        @param n_actions: The dimensionality of the action space\n",
    "        @param buffer: An instance of a replay buffer\n",
    "        @param net_size: The width of the NAF network layers\n",
    "        @param gamma: The discount rate\n",
    "        @param tau: The soft/polyak target network update rate\n",
    "        @param lr: The learning rate\n",
    "        \"\"\"\n",
    "        self.buffer = buffer\n",
    "        self.loss_fn = nn.SmoothL1Loss()\n",
    "        self.update_counter = 0\n",
    "        self.GAMMA = gamma\n",
    "        self.TAU = tau\n",
    "        self.LR = lr\n",
    "        self.loss_hist = []\n",
    "\n",
    "        # main network\n",
    "        self.naf_net = NAFNetwork(\n",
    "            state_size=n_states,\n",
    "            action_size=n_actions,\n",
    "            layer_size=net_size,\n",
    "        )\n",
    "        self.naf_net.to(DEVICE)\n",
    "\n",
    "        # target network\n",
    "        self.target_net = NAFNetwork(\n",
    "            state_size=n_states,\n",
    "            action_size=n_actions,\n",
    "            layer_size=net_size,\n",
    "        )\n",
    "        self.target_net.to(DEVICE)\n",
    "        self.target_net.load_state_dict(self.naf_net.state_dict())\n",
    "\n",
    "        self.optim = Adam(self.naf_net.parameters(), lr=self.LR)\n",
    "        \n",
    "    def rollout(self, env, episode, mode=\"train\"):\n",
    "        \"\"\"\n",
    "        Runs one episode and does a batch update after each step.\n",
    "        \"\"\"\n",
    "        obs, info = env.reset()\n",
    "        #obs = env.reset()\n",
    "        done = False\n",
    "        truncated = False\n",
    "        total_reward = 0\n",
    "\n",
    "        while not (done or truncated):\n",
    "            if mode == \"train\":\n",
    "                action, _, _, _ = self.naf_net(torch.from_numpy(obs).unsqueeze(0).to(DEVICE).to(torch.float32))\n",
    "            elif mode == \"eval\":\n",
    "                _, _, _, action = self.naf_net(torch.from_numpy(obs).to(DEVICE).to(torch.float32))\n",
    "            else:\n",
    "                raise ValueError(f\"Invalid mode 'mode' given!\")\n",
    "            \n",
    "            action = transform_action(action.squeeze(0), env)\n",
    "            \n",
    "            new_obs, reward, done, truncated, deviceinfo = env.step(action)\n",
    "            #new_obs, reward, done, truncated = env.step(action)\n",
    "\n",
    "            total_reward += reward\n",
    "            \n",
    "            if mode == \"train\":\n",
    "                self.buffer.add(obs, action, reward, new_obs, done)\n",
    "                self.update()\n",
    "\n",
    "            if done or truncated:\n",
    "                print(f\"Total reward {mode} episode {episode}: {total_reward}\")\n",
    "                return total_reward\n",
    "            \n",
    "            obs = new_obs\n",
    "\n",
    "    def update(self):\n",
    "        \"\"\"\n",
    "        Updates the neural network based on a batch of experiences sampled from the replay buffer.\n",
    "        \"\"\"\n",
    "        if len(self.buffer) < self.buffer.batch_size:\n",
    "            return\n",
    "\n",
    "        states, actions, rewards, next_states, dones = self.buffer.sample()\n",
    "        self.optim.zero_grad()\n",
    "        \n",
    "        # TODO: compute the loss\n",
    "        # This involves calling self.loss_fn(Q, y)\n",
    "        # ---------------------\n",
    "\n",
    "        \n",
    "        #loss = None\n",
    "\n",
    "        with torch.no_grad():\n",
    "            _, _, V_, _ = self.target_net(next_states)\n",
    "\n",
    "        # Compute Q targets for current states \n",
    "        V_targets = rewards + (self.GAMMA * V_ * (1 - dones))\n",
    "        \n",
    "        # Get expected Q values from local model\n",
    "        _, Q, _, _ = self.naf_net(states, actions)\n",
    "\n",
    "        # Compute loss\n",
    "        loss = self.loss_fn(Q, V_targets)\n",
    "                \n",
    "        # ---------------------\n",
    "        loss.backward()\n",
    "        self.optim.step()\n",
    "\n",
    "        self.loss_hist.append(loss.item())\n",
    "        self.update_counter += 1\n",
    "\n",
    "        # polyak/soft target network udpate\n",
    "        for target_param, current_param in zip(self.target_net.parameters(), self.naf_net.parameters()):\n",
    "            target_param.data.copy_(self.TAU * current_param.data + (1.0 - self.TAU) * target_param.data)"
   ]
  },
  {
   "cell_type": "markdown",
   "id": "f2dd2bb2",
   "metadata": {
    "id": "f2dd2bb2"
   },
   "source": [
    "Now, we just need a method that initializes the agent and runs the main trianing loop . **In the next cell, don't change anything**. You can play with the hyperparameters later, but when we highly recommend that you don't change them for now, since the ones we put for you definitly work!"
   ]
  },
  {
   "cell_type": "code",
   "execution_count": 5,
   "id": "625fe775",
   "metadata": {
    "id": "625fe775"
   },
   "outputs": [],
   "source": [
    "def naf_algo(env): \n",
    "    # hyperparameters\n",
    "    TRAIN_EPISODES = 200\n",
    "    NET_SIZE = 64\n",
    "    GAMMA = 0.975\n",
    "    TAU = 0.0025\n",
    "    LR = 0.001\n",
    "    BATCH_SIZE = 128\n",
    "    \n",
    "    buffer = ReplayBuffer(\n",
    "        buffer_size=int(1e6),\n",
    "        batch_size=BATCH_SIZE,\n",
    "        device=DEVICE,\n",
    "    )\n",
    "    \n",
    "    agent = NAFAgent(\n",
    "        env.observation_space.shape[0],\n",
    "        env.action_space.shape[0],\n",
    "        buffer,\n",
    "        NET_SIZE,\n",
    "        GAMMA,\n",
    "        TAU,\n",
    "        LR\n",
    "    )\n",
    "    \n",
    "    # populate replay buffer with 10k random transitions\n",
    "    presample_env(env, agent.buffer, 10000)\n",
    "\n",
    "    # main loop\n",
    "    training_rewards = []\n",
    "    eval_rewards = []\n",
    "    eval_eps = []\n",
    "    for episode in range(TRAIN_EPISODES):\n",
    "        tr = agent.rollout(env, episode)\n",
    "        training_rewards.append(tr)\n",
    "\n",
    "        if episode % 5 == 0:\n",
    "            er = agent.rollout(env, episode, mode=\"eval\")\n",
    "            eval_rewards.append(er)\n",
    "            eval_eps.append(episode)\n",
    "            \n",
    "    plot_loss(agent.loss_hist)\n",
    "    plot_reward(training_rewards, eval_rewards, eval_eps)\n",
    "    \n",
    "    return agent"
   ]
  },
  {
   "cell_type": "markdown",
   "id": "30ffe96f",
   "metadata": {
    "id": "30ffe96f"
   },
   "source": [
    "# Testing NAF on Pendulum environment\n",
    "Now, with all of this (partially boilerplate) code out of the way, its time to test our NAF agent. We use the [OpenAI Gym Pendulum environment](https://mgoulao.github.io/gym-docs/environments/classic_control/pendulum/), which is arguably one of the easiest, continuous action space environments. The agent should reach about -250 reward relatively quickly, if you've implemented everything correctly. There can still be quite some variation (i.e. between 0 and -700), depending on the random initialization of the pendulum..."
   ]
  },
  {
   "cell_type": "code",
   "execution_count": 6,
   "id": "7ad3fc15",
   "metadata": {
    "colab": {
     "base_uri": "https://localhost:8080/",
     "height": 1000
    },
    "id": "7ad3fc15",
    "outputId": "73efc4e3-0330-40e0-b383-b729de6db06a",
    "scrolled": true
   },
   "outputs": [
    {
     "name": "stdout",
     "output_type": "stream",
     "text": [
      "Presampling done\n",
      "Total reward train episode 0: -1032.9890028036762\n",
      "Total reward eval episode 0: -1066.9832441627289\n",
      "Total reward train episode 1: -1070.768572732701\n",
      "Total reward train episode 2: -1585.7417978052813\n",
      "Total reward train episode 3: -1052.7174867891272\n",
      "Total reward train episode 4: -1409.7469167371125\n",
      "Total reward train episode 5: -1646.4409290231067\n",
      "Total reward eval episode 5: -1915.478392959994\n",
      "Total reward train episode 6: -1741.4811777455757\n",
      "Total reward train episode 7: -1521.4553434156658\n",
      "Total reward train episode 8: -1621.9162574292557\n",
      "Total reward train episode 9: -1644.4086293903647\n",
      "Total reward train episode 10: -1463.8552671503287\n",
      "Total reward eval episode 10: -1759.7208011642801\n",
      "Total reward train episode 11: -1276.00502148959\n",
      "Total reward train episode 12: -1371.816005952665\n",
      "Total reward train episode 13: -1381.381425611932\n",
      "Total reward train episode 14: -1081.3612544229613\n",
      "Total reward train episode 15: -965.3659767943441\n",
      "Total reward eval episode 15: -1097.9791422510602\n",
      "Total reward train episode 16: -1070.821320405074\n",
      "Total reward train episode 17: -944.5268230314122\n",
      "Total reward train episode 18: -939.7374019741974\n",
      "Total reward train episode 19: -1030.274947241589\n",
      "Total reward train episode 20: -1016.0479762423101\n",
      "Total reward eval episode 20: -794.4998684919593\n",
      "Total reward train episode 21: -709.6900801525902\n",
      "Total reward train episode 22: -692.0824508164432\n",
      "Total reward train episode 23: -792.786745661163\n",
      "Total reward train episode 24: -899.1555872855446\n",
      "Total reward train episode 25: -757.0918859604491\n",
      "Total reward eval episode 25: -410.6213344429695\n",
      "Total reward train episode 26: -896.685523647542\n",
      "Total reward train episode 27: -897.9083181556381\n",
      "Total reward train episode 28: -888.2400027889729\n",
      "Total reward train episode 29: -948.4440539465055\n",
      "Total reward train episode 30: -850.9779856598973\n",
      "Total reward eval episode 30: -162.5597194666408\n",
      "Total reward train episode 31: -650.489812598437\n",
      "Total reward train episode 32: -901.5523012972765\n",
      "Total reward train episode 33: -886.2514390492184\n",
      "Total reward train episode 34: -875.8759057961569\n",
      "Total reward train episode 35: -882.3525780270361\n",
      "Total reward eval episode 35: -138.05740888220203\n",
      "Total reward train episode 36: -763.1007142512389\n",
      "Total reward train episode 37: -724.9433439851261\n",
      "Total reward train episode 38: -820.9898455850545\n",
      "Total reward train episode 39: -614.4690726768619\n",
      "Total reward train episode 40: -632.0185078516449\n",
      "Total reward eval episode 40: -13.762101458217359\n",
      "Total reward train episode 41: -638.3153865421319\n",
      "Total reward train episode 42: -527.8792827277122\n",
      "Total reward train episode 43: -435.3128649374343\n",
      "Total reward train episode 44: -259.22403805109724\n",
      "Total reward train episode 45: -144.19463713102058\n",
      "Total reward eval episode 45: -258.42357379654817\n",
      "Total reward train episode 46: -645.8935465803984\n",
      "Total reward train episode 47: -267.814159232639\n",
      "Total reward train episode 48: -142.09216832802113\n",
      "Total reward train episode 49: -139.9809272613599\n",
      "Total reward train episode 50: -137.1953008654886\n",
      "Total reward eval episode 50: -7.232918232102896\n",
      "Total reward train episode 51: -258.9910966525972\n",
      "Total reward train episode 52: -8.617606571700836\n",
      "Total reward train episode 53: -135.12205792974333\n",
      "Total reward train episode 54: -309.09936882409227\n",
      "Total reward train episode 55: -253.21697427672635\n",
      "Total reward eval episode 55: -273.46604236642\n",
      "Total reward train episode 56: -132.21343640472827\n",
      "Total reward train episode 57: -248.59309424838585\n",
      "Total reward train episode 58: -126.63981191759298\n",
      "Total reward train episode 59: -352.10968742710526\n",
      "Total reward train episode 60: -136.66230313493506\n",
      "Total reward eval episode 60: -126.18904649684943\n",
      "Total reward train episode 61: -253.2597079397312\n",
      "Total reward train episode 62: -123.72215441067874\n",
      "Total reward train episode 63: -133.91220347634535\n",
      "Total reward train episode 64: -249.9887662265306\n",
      "Total reward train episode 65: -362.62371278395204\n",
      "Total reward eval episode 65: -124.82770256884913\n",
      "Total reward train episode 66: -247.74162489128634\n",
      "Total reward train episode 67: -367.5578337086724\n",
      "Total reward train episode 68: -354.7657882966247\n",
      "Total reward train episode 69: -131.67624915250985\n",
      "Total reward train episode 70: -132.84913841873768\n",
      "Total reward eval episode 70: -243.4412236199529\n",
      "Total reward train episode 71: -357.2392399542136\n",
      "Total reward train episode 72: -8.578468312378963\n",
      "Total reward train episode 73: -250.43860564470612\n",
      "Total reward train episode 74: -251.09006804137266\n",
      "Total reward train episode 75: -131.91253237237692\n",
      "Total reward eval episode 75: -122.4118086365419\n",
      "Total reward train episode 76: -311.2191346350742\n",
      "Total reward train episode 77: -128.91732258589835\n",
      "Total reward train episode 78: -126.56125326108295\n",
      "Total reward train episode 79: -131.99260011594748\n",
      "Total reward train episode 80: -125.91305832207985\n",
      "Total reward eval episode 80: -127.5653141984777\n",
      "Total reward train episode 81: -118.36553652376554\n",
      "Total reward train episode 82: -3.7726812181949145\n",
      "Total reward train episode 83: -313.207098029257\n",
      "Total reward train episode 84: -5.132163008661268\n",
      "Total reward train episode 85: -368.1371065834627\n",
      "Total reward eval episode 85: -121.63336449418276\n",
      "Total reward train episode 86: -4.434270954311481\n",
      "Total reward train episode 87: -127.28438945987047\n",
      "Total reward train episode 88: -117.33430140631611\n",
      "Total reward train episode 89: -130.39455248777512\n",
      "Total reward train episode 90: -237.2327607807329\n",
      "Total reward eval episode 90: -126.97245547491488\n",
      "Total reward train episode 91: -254.50556612135264\n",
      "Total reward train episode 92: -122.33171915573276\n",
      "Total reward train episode 93: -126.92645474494385\n",
      "Total reward train episode 94: -375.2128062854107\n",
      "Total reward train episode 95: -262.09263595427615\n",
      "Total reward eval episode 95: -120.69333927775722\n",
      "Total reward train episode 96: -132.5625463798711\n",
      "Total reward train episode 97: -234.88347279506374\n",
      "Total reward train episode 98: -131.89715145523252\n",
      "Total reward train episode 99: -258.1834961271843\n",
      "Total reward train episode 100: -468.64533996985665\n",
      "Total reward eval episode 100: -0.3382129573215612\n",
      "Total reward train episode 101: -262.0901297160686\n",
      "Total reward train episode 102: -131.34305062728683\n",
      "Total reward train episode 103: -336.2501433450077\n",
      "Total reward train episode 104: -127.41734693739234\n",
      "Total reward train episode 105: -125.93952246762345\n",
      "Total reward eval episode 105: -240.52354527632147\n",
      "Total reward train episode 106: -122.19939013240219\n",
      "Total reward train episode 107: -382.4221939501224\n",
      "Total reward train episode 108: -380.2482166441876\n",
      "Total reward train episode 109: -252.417683676442\n",
      "Total reward train episode 110: -254.5859935542209\n",
      "Total reward eval episode 110: -250.98013352094844\n",
      "Total reward train episode 111: -259.7675499515678\n",
      "Total reward train episode 112: -259.4933917425929\n",
      "Total reward train episode 113: -264.61821326108515\n",
      "Total reward train episode 114: -273.08244579987945\n",
      "Total reward train episode 115: -355.4605050133901\n",
      "Total reward eval episode 115: -3.6958405569702917\n",
      "Total reward train episode 116: -124.14312585217775\n",
      "Total reward train episode 117: -128.47859362714047\n",
      "Total reward train episode 118: -137.805463623186\n",
      "Total reward train episode 119: -129.79974188845873\n",
      "Total reward train episode 120: -130.2664457229736\n",
      "Total reward eval episode 120: -374.32784680872817\n",
      "Total reward train episode 121: -262.74661455635055\n",
      "Total reward train episode 122: -367.5055653835758\n",
      "Total reward train episode 123: -381.8236683787097\n",
      "Total reward train episode 124: -389.48128909547046\n",
      "Total reward train episode 125: -128.49645286074025\n",
      "Total reward eval episode 125: -235.5482221098208\n",
      "Total reward train episode 126: -358.6022920325462\n",
      "Total reward train episode 127: -400.84007563001313\n",
      "Total reward train episode 128: -239.7038188895457\n",
      "Total reward train episode 129: -133.28942518547208\n",
      "Total reward train episode 130: -136.78843580276168\n",
      "Total reward eval episode 130: -1.935782005834282\n",
      "Total reward train episode 131: -142.99610789636986\n",
      "Total reward train episode 132: -371.1054996749075\n",
      "Total reward train episode 133: -246.2000947854692\n",
      "Total reward train episode 134: -269.89333685679946\n",
      "Total reward train episode 135: -255.61451380242002\n",
      "Total reward eval episode 135: -129.7778683941708\n",
      "Total reward train episode 136: -138.8616807697797\n",
      "Total reward train episode 137: -407.29086910527406\n",
      "Total reward train episode 138: -340.13298206196265\n",
      "Total reward train episode 139: -365.71196644307105\n",
      "Total reward train episode 140: -261.7146658055729\n",
      "Total reward eval episode 140: -119.34668696276626\n",
      "Total reward train episode 141: -370.2651422715622\n",
      "Total reward train episode 142: -367.3164467215171\n",
      "Total reward train episode 143: -271.1486786191744\n",
      "Total reward train episode 144: -492.6595402987902\n",
      "Total reward train episode 145: -394.8541866924587\n",
      "Total reward eval episode 145: -122.93455319406063\n",
      "Total reward train episode 146: -259.9755729173307\n",
      "Total reward train episode 147: -267.65239287390176\n",
      "Total reward train episode 148: -388.2087759484534\n",
      "Total reward train episode 149: -273.29667474764256\n",
      "Total reward train episode 150: -567.7240080080749\n",
      "Total reward eval episode 150: -134.99144041446243\n",
      "Total reward train episode 151: -517.2221097369589\n",
      "Total reward train episode 152: -518.2389430150963\n",
      "Total reward train episode 153: -140.28210039755487\n",
      "Total reward train episode 154: -145.65782620273336\n",
      "Total reward train episode 155: -268.8127781075072\n",
      "Total reward eval episode 155: -4.367804545487772\n",
      "Total reward train episode 156: -269.0404376711792\n",
      "Total reward train episode 157: -396.4141212319006\n",
      "Total reward train episode 158: -388.237799472392\n",
      "Total reward train episode 159: -505.488557861198\n",
      "Total reward train episode 160: -423.3466900196883\n",
      "Total reward eval episode 160: -238.7144400818159\n",
      "Total reward train episode 161: -386.0270878569385\n",
      "Total reward train episode 162: -398.3753156408107\n",
      "Total reward train episode 163: -518.6860221676842\n",
      "Total reward train episode 164: -267.52176783266344\n",
      "Total reward train episode 165: -268.1381019500318\n",
      "Total reward eval episode 165: -247.16864458728594\n",
      "Total reward train episode 166: -393.16691013236897\n",
      "Total reward train episode 167: -515.7445852128003\n",
      "Total reward train episode 168: -301.4835104661928\n",
      "Total reward train episode 169: -627.8166304788499\n",
      "Total reward train episode 170: -386.93309432886093\n",
      "Total reward eval episode 170: -122.33460366894941\n",
      "Total reward train episode 171: -502.53199240723046\n",
      "Total reward train episode 172: -511.77082287631725\n",
      "Total reward train episode 173: -489.8493854194323\n",
      "Total reward train episode 174: -398.40327142478645\n",
      "Total reward train episode 175: -290.30561655643356\n",
      "Total reward eval episode 175: -243.53895006057024\n",
      "Total reward train episode 176: -387.74620844234704\n",
      "Total reward train episode 177: -604.5737077290742\n",
      "Total reward train episode 178: -641.5399587014975\n",
      "Total reward train episode 179: -646.470649432202\n",
      "Total reward train episode 180: -390.46444069742716\n",
      "Total reward eval episode 180: -258.24839818644796\n",
      "Total reward train episode 181: -266.9567829236773\n",
      "Total reward train episode 182: -396.03432668721643\n",
      "Total reward train episode 183: -514.165555384114\n",
      "Total reward train episode 184: -326.60805266917805\n",
      "Total reward train episode 185: -509.0074380048751\n",
      "Total reward eval episode 185: -126.62516019787815\n",
      "Total reward train episode 186: -396.34572028815097\n",
      "Total reward train episode 187: -384.3001925742061\n",
      "Total reward train episode 188: -390.06182137419495\n",
      "Total reward train episode 189: -266.026115578944\n",
      "Total reward train episode 190: -397.3164918916619\n",
      "Total reward eval episode 190: -139.0681275926503\n",
      "Total reward train episode 191: -289.31939250578506\n",
      "Total reward train episode 192: -511.6231884400508\n",
      "Total reward train episode 193: -397.83190167741986\n",
      "Total reward train episode 194: -509.18951487389984\n",
      "Total reward train episode 195: -391.2569178192017\n",
      "Total reward eval episode 195: -348.87792663821716\n",
      "Total reward train episode 196: -545.8614495725957\n",
      "Total reward train episode 197: -399.4527852196571\n",
      "Total reward train episode 198: -436.1277154520319\n",
      "Total reward train episode 199: -525.530319300431\n"
     ]
    },
    {
     "data": {
      "image/png": "[encoded data removed]",
      "text/plain": [
       "<Figure size 640x480 with 1 Axes>"
      ]
     },
     "metadata": {},
     "output_type": "display_data"
    },
    {
     "data": {
      "image/png": "[encoded data removed]",
      "text/plain": [
       "<Figure size 640x480 with 1 Axes>"
      ]
     },
     "metadata": {},
     "output_type": "display_data"
    }
   ],
   "source": [
    "pendulum_env = gym.make(\"Pendulum-v1\")\n",
    "naf_agent = naf_algo(pendulum_env)"
   ]
  },
  {
   "cell_type": "markdown",
   "id": "7fa40531",
   "metadata": {
    "id": "7fa40531"
   },
   "source": [
    "### Continue with the next part of the assignment only when your NAF implementation maintains between 0 and -700 reward on the pendulum environment!\n",
    "Once the NAF agent reaches acceptable performance on the pendulum environment, explore the effect of exploration noise. In the NAF paper in section 8.2, the authors describe how to use the matrix $P$ from the advantage term for adaptive noise generation. Assuming you used simple Gaussian noise so far, go back to the the forward pass of the neural network and implement adaptive noise instead. Do you observe a considerable difference on the Pendulum environment when using adaptive noise?"
   ]
  },
  {
   "cell_type": "markdown",
   "id": "c0594968",
   "metadata": {
    "id": "c0594968"
   },
   "source": [
    "# Multigoal environment\n",
    "Now, we turn to a more interesting but still toy example, the \"multigoal\" environment introduced in the Soft Q-Learning paper. This environment features four goals (the stars in the below image) the agent can navigate to. The observation is the current position, the actions are 2D velocities to apply to the agent. The agent always starts at the center (plus some small random offset). The reward is the distance to the closest goal plus a small cost proportional to the squarred action sum. Consider below the plot of the reward function evaluated at a fine grid of locations for further intuition:\n",
    "![multigoal env](notebook_imgs/multigoal-env-reward.png)"
   ]
  },
  {
   "cell_type": "markdown",
   "id": "36d0dda3",
   "metadata": {
    "id": "36d0dda3"
   },
   "source": [
    "# TASK: Draw on a paper a [contour plot](https://se.mathworks.com/help/examples/graphics/win64/DisplayContourLabelsExample_01.png) of what you think NAF's value function will look like, evaluate at 2D locations in the environment as done with the reward function above. Keep the paper for later comparison with the actual value function. "
   ]
  },
  {
   "cell_type": "markdown",
   "id": "9b370fb9",
   "metadata": {
    "id": "9b370fb9"
   },
   "source": [
    "..."
   ]
  },
  {
   "cell_type": "markdown",
   "id": "0cdc73f8",
   "metadata": {
    "id": "0cdc73f8"
   },
   "source": [
    "# TASK: Also draw the trajectories that you think NAF's policy will generate. Keep the paper for later comparison with actual trajectories generated by the policy."
   ]
  },
  {
   "cell_type": "markdown",
   "id": "31013762",
   "metadata": {
    "id": "31013762"
   },
   "source": [
    "..."
   ]
  },
  {
   "cell_type": "code",
   "execution_count": null,
   "id": "76fe717f",
   "metadata": {
    "colab": {
     "base_uri": "https://localhost:8080/",
     "height": 1000
    },
    "id": "76fe717f",
    "outputId": "648de9ca-6277-414f-e68d-a08811626b51",
    "scrolled": true
   },
   "outputs": [
    {
     "name": "stderr",
     "output_type": "stream",
     "text": [
      "/usr/local/lib/python3.7/dist-packages/gym/spaces/box.py:128: UserWarning: \u001b[33mWARN: Box bound precision lowered by casting to float32\u001b[0m\n",
      "  logger.warn(f\"Box bound precision lowered by casting to {self.dtype}\")\n"
     ]
    },
    {
     "name": "stdout",
     "output_type": "stream",
     "text": [
      "Presampling done\n",
      "Total reward train episode 0: -16096.19319476447\n",
      "Total reward eval episode 0: -17904.899888629247\n",
      "Total reward train episode 1: -12188.61482422907\n",
      "Total reward train episode 2: -8635.90418268704\n",
      "Total reward train episode 3: -9364.703345338461\n",
      "Total reward train episode 4: -7748.982149555856\n",
      "Total reward train episode 5: -6753.133006198295\n",
      "Total reward eval episode 5: -6801.435407724258\n",
      "Total reward train episode 6: -6115.525638937268\n",
      "Total reward train episode 7: -5938.748753748056\n",
      "Total reward train episode 8: -6028.711635929287\n",
      "Total reward train episode 9: -6146.447821475918\n",
      "Total reward train episode 10: -6177.7951215816265\n",
      "Total reward eval episode 10: -5753.4722842687315\n",
      "Total reward train episode 11: -6108.370795831726\n",
      "Total reward train episode 12: -6066.242058460173\n",
      "Total reward train episode 13: -5871.07848071301\n",
      "Total reward train episode 14: -5915.618817170034\n",
      "Total reward train episode 15: -6036.17918986715\n",
      "Total reward eval episode 15: -5506.869846326088\n",
      "Total reward train episode 16: -6242.496388794726\n",
      "Total reward train episode 17: -6067.869733584745\n",
      "Total reward train episode 18: -5887.545991613941\n",
      "Total reward train episode 19: -5978.212086285658\n",
      "Total reward train episode 20: -6166.219632315365\n",
      "Total reward eval episode 20: -5419.584712555725\n",
      "Total reward train episode 21: -6133.230773907564\n",
      "Total reward train episode 22: -6071.875384954227\n",
      "Total reward train episode 23: -6009.8352970061005\n",
      "Total reward train episode 24: -5890.480826200493\n",
      "Total reward train episode 25: -6085.741111064478\n",
      "Total reward eval episode 25: -6038.604130989153\n",
      "Total reward train episode 26: -6170.00252070723\n",
      "Total reward train episode 27: -6115.119105472768\n",
      "Total reward train episode 28: -6120.782261840359\n",
      "Total reward train episode 29: -6085.3863094389835\n",
      "Total reward train episode 30: -5902.220165002301\n",
      "Total reward eval episode 30: -5434.577749043868\n",
      "Total reward train episode 31: -5875.267350643657\n",
      "Total reward train episode 32: -5992.3911744749485\n",
      "Total reward train episode 33: -5824.190120403991\n",
      "Total reward train episode 34: -5997.8573819624835\n",
      "Total reward train episode 35: -6065.270489597374\n",
      "Total reward eval episode 35: -5411.282766586407\n",
      "Total reward train episode 36: -6080.7646576198795\n",
      "Total reward train episode 37: -6059.0314122571635\n",
      "Total reward train episode 38: -6015.051106373363\n",
      "Total reward train episode 39: -6010.727634169388\n",
      "Total reward train episode 40: -5994.261731414444\n",
      "Total reward eval episode 40: -5583.890701597608\n",
      "Total reward train episode 41: -5814.386859761173\n",
      "Total reward train episode 42: -5983.668030559928\n",
      "Total reward train episode 43: -6048.395736037863\n",
      "Total reward train episode 44: -6033.064401389073\n",
      "Total reward train episode 45: -5903.921840759819\n",
      "Total reward eval episode 45: -5400.400961057583\n",
      "Total reward train episode 46: -5990.386323098554\n",
      "Total reward train episode 47: -6155.771635188531\n",
      "Total reward train episode 48: -6412.505738028114\n",
      "Total reward train episode 49: -6037.209856162461\n",
      "Total reward train episode 50: -5988.311516363802\n",
      "Total reward eval episode 50: -5570.741248663532\n",
      "Total reward train episode 51: -5857.994648586504\n",
      "Total reward train episode 52: -5998.269100821167\n",
      "Total reward train episode 53: -5910.919806136214\n",
      "Total reward train episode 54: -6241.960874084936\n",
      "Total reward train episode 55: -6427.224538793218\n",
      "Total reward eval episode 55: -5489.069645290495\n",
      "Total reward train episode 56: -6153.995209333743\n",
      "Total reward train episode 57: -6001.549009525672\n",
      "Total reward train episode 58: -5971.260412086226\n",
      "Total reward train episode 59: -6257.252620542087\n",
      "Total reward train episode 60: -6018.67980935948\n",
      "Total reward eval episode 60: -170.1867865288443\n",
      "Total reward train episode 61: -5930.223479160087\n",
      "Total reward train episode 62: -5984.32230724853\n",
      "Total reward train episode 63: -5954.442010419831\n",
      "Total reward train episode 64: -6093.190721021968\n",
      "Total reward train episode 65: -6109.135828263141\n",
      "Total reward eval episode 65: -5434.9403609701\n",
      "Total reward train episode 66: -5990.595114962437\n",
      "Total reward train episode 67: -6018.994685530412\n",
      "Total reward train episode 68: -6039.264121406561\n",
      "Total reward train episode 69: -5993.503871725927\n",
      "Total reward train episode 70: -6223.446339546378\n",
      "Total reward eval episode 70: -5745.607244568519\n",
      "Total reward train episode 71: -5998.655184026061\n",
      "Total reward train episode 72: -6118.441335717608\n",
      "Total reward train episode 73: -6014.278188762312\n",
      "Total reward train episode 74: -6088.710537833537\n",
      "Total reward train episode 75: -5890.626674213293\n",
      "Total reward eval episode 75: -5658.63231534726\n",
      "Total reward train episode 76: -6098.5044668515875\n",
      "Total reward train episode 77: -6156.167237775335\n",
      "Total reward train episode 78: -6118.606690295078\n",
      "Total reward train episode 79: -6146.281182941083\n",
      "Total reward train episode 80: -5973.903749383134\n",
      "Total reward eval episode 80: -5437.483528219377\n",
      "Total reward train episode 81: -5907.814324399572\n",
      "Total reward train episode 82: -5922.257037084804\n",
      "Total reward train episode 83: -6213.5421732269815\n",
      "Total reward train episode 84: -6344.731979521309\n",
      "Total reward train episode 85: -6221.805123661821\n",
      "Total reward eval episode 85: -6046.141110918514\n",
      "Total reward train episode 86: -6177.170461297576\n",
      "Total reward train episode 87: -6040.350853827322\n",
      "Total reward train episode 88: -184.61428820150618\n",
      "Total reward train episode 89: -6587.583557514499\n",
      "Total reward train episode 90: -6084.114175870861\n",
      "Total reward eval episode 90: -5465.594758025526\n",
      "Total reward train episode 91: -6346.9533346937005\n",
      "Total reward train episode 92: -6453.120187634355\n",
      "Total reward train episode 93: -6000.355492450696\n",
      "Total reward train episode 94: -6071.94645759456\n",
      "Total reward train episode 95: -5986.560663969798\n",
      "Total reward eval episode 95: -5600.258045178592\n",
      "Total reward train episode 96: -5971.10525462067\n",
      "Total reward train episode 97: -6164.916128725577\n",
      "Total reward train episode 98: -6152.951603170659\n",
      "Total reward train episode 99: -6268.381857014433\n",
      "Total reward train episode 100: -6217.592670158432\n",
      "Total reward eval episode 100: -5438.269430093757\n",
      "Total reward train episode 101: -5982.1573084796155\n",
      "Total reward train episode 102: -6075.584068495665\n",
      "Total reward train episode 103: -6495.677344275452\n",
      "Total reward train episode 104: -6277.814990908114\n",
      "Total reward train episode 105: -6142.55511827162\n",
      "Total reward eval episode 105: -5493.320965474027\n",
      "Total reward train episode 106: -6225.186119000935\n",
      "Total reward train episode 107: -6102.67318705736\n",
      "Total reward train episode 108: -6195.638349247139\n",
      "Total reward train episode 109: -6541.717187176604\n",
      "Total reward train episode 110: -6443.333346172972\n",
      "Total reward eval episode 110: -6663.598418968982\n",
      "Total reward train episode 111: -6217.61894212111\n",
      "Total reward train episode 112: -6344.927221789197\n",
      "Total reward train episode 113: -6217.499952826053\n",
      "Total reward train episode 114: -6256.258984041693\n",
      "Total reward train episode 115: -6332.785557448557\n",
      "Total reward eval episode 115: -5647.952581592543\n",
      "Total reward train episode 116: -6358.42198065014\n",
      "Total reward train episode 117: -6202.942957400256\n",
      "Total reward train episode 118: -4867.299307937533\n",
      "Total reward train episode 119: -4213.422980997722\n",
      "Total reward train episode 120: -3878.6026515447666\n",
      "Total reward eval episode 120: -436.12139173893587\n",
      "Total reward train episode 121: -3971.094219427488\n",
      "Total reward train episode 122: -4212.805209618773\n",
      "Total reward train episode 123: -3996.9424595577434\n",
      "Total reward train episode 124: -4514.372090148634\n",
      "Total reward train episode 125: -4107.469335505021\n",
      "Total reward eval episode 125: -889.3718274229923\n",
      "Total reward train episode 126: -3677.958940727254\n",
      "Total reward train episode 127: -3528.1842955401726\n",
      "Total reward train episode 128: -3402.4195578068457\n",
      "Total reward train episode 129: -3477.437782581435\n",
      "Total reward train episode 130: -1385.59392366214\n",
      "Total reward eval episode 130: -3270.9051173353055\n",
      "Total reward train episode 131: -1508.9914143810101\n",
      "Total reward train episode 132: -3341.35147955365\n",
      "Total reward train episode 133: -799.9648540288811\n",
      "Total reward train episode 134: -3501.942056156339\n",
      "Total reward train episode 135: -3463.0950707342513\n",
      "Total reward eval episode 135: -3300.1816966428933\n",
      "Total reward train episode 136: -3472.238973323671\n",
      "Total reward train episode 137: -2001.4255552883562\n",
      "Total reward train episode 138: -3524.3652225129345\n",
      "Total reward train episode 139: -3490.6031411272716\n",
      "Total reward train episode 140: -2069.7827786327484\n",
      "Total reward eval episode 140: -3234.391240840581\n",
      "Total reward train episode 141: -3519.3902686806396\n",
      "Total reward train episode 142: -1139.610329832289\n",
      "Total reward train episode 143: -3198.0849415675866\n",
      "Total reward train episode 144: -3465.499280999344\n",
      "Total reward train episode 145: -3731.887240150014\n",
      "Total reward eval episode 145: -3161.9802135484224\n",
      "Total reward train episode 146: -3594.4097841893044\n",
      "Total reward train episode 147: -3657.539742405736\n",
      "Total reward train episode 148: -3399.2598003665425\n",
      "Total reward train episode 149: -3707.7815593570454\n",
      "Total reward train episode 150: -3498.7299315369264\n",
      "Total reward eval episode 150: -3440.6470157668386\n",
      "Total reward train episode 151: -3814.762789270063\n",
      "Total reward train episode 152: -4355.239273853035\n",
      "Total reward train episode 153: -4544.724695998474\n",
      "Total reward train episode 154: -4571.235552849572\n",
      "Total reward train episode 155: -4637.869560591506\n",
      "Total reward eval episode 155: -4390.170603545122\n",
      "Total reward train episode 156: -2034.4429946076036\n",
      "Total reward train episode 157: -4526.73063828487\n",
      "Total reward train episode 158: -4319.520507951243\n",
      "Total reward train episode 159: -3993.0103451088376\n",
      "Total reward train episode 160: -4072.2022182537685\n",
      "Total reward eval episode 160: -3850.8976657604567\n",
      "Total reward train episode 161: -3852.5692953734333\n",
      "Total reward train episode 162: -3633.792176356328\n",
      "Total reward train episode 163: -3516.2232233243035\n",
      "Total reward train episode 164: -3628.7983997789825\n",
      "Total reward train episode 165: -3825.514691942547\n",
      "Total reward eval episode 165: -3269.7643190297563\n",
      "Total reward train episode 166: -3453.156850914047\n",
      "Total reward train episode 167: -3564.2710485570665\n",
      "Total reward train episode 168: -3583.963999919144\n",
      "Total reward train episode 169: -3622.722897865227\n",
      "Total reward train episode 170: -3583.049306929054\n",
      "Total reward eval episode 170: -3294.793967562779\n",
      "Total reward train episode 171: -3625.965313669676\n",
      "Total reward train episode 172: -3856.049599119673\n",
      "Total reward train episode 173: -4157.275013414717\n",
      "Total reward train episode 174: -4189.257372249589\n",
      "Total reward train episode 175: -4073.2455195977273\n",
      "Total reward eval episode 175: -3808.8756971732496\n",
      "Total reward train episode 176: -4186.153996841843\n",
      "Total reward train episode 177: -4216.256153867485\n",
      "Total reward train episode 178: -4167.793062656625\n",
      "Total reward train episode 179: -4419.2376972634465\n",
      "Total reward train episode 180: -4282.200542851346\n",
      "Total reward eval episode 180: -3924.5369779366893\n",
      "Total reward train episode 181: -4232.193976092364\n",
      "Total reward train episode 182: -4487.465951865531\n",
      "Total reward train episode 183: -4357.473825577698\n",
      "Total reward train episode 184: -4386.487535770752\n",
      "Total reward train episode 185: -4435.900981900669\n",
      "Total reward eval episode 185: -4305.990843898141\n",
      "Total reward train episode 186: -4596.993871654574\n",
      "Total reward train episode 187: -4856.096115475339\n",
      "Total reward train episode 188: -4662.898514165788\n",
      "Total reward train episode 189: -4778.8330543330085\n",
      "Total reward train episode 190: -4685.933664414891\n",
      "Total reward eval episode 190: -4319.734530576965\n",
      "Total reward train episode 191: -4541.517443764668\n",
      "Total reward train episode 192: -4031.524336526849\n",
      "Total reward train episode 193: -4340.039264403238\n",
      "Total reward train episode 194: -3733.150290854173\n",
      "Total reward train episode 195: -3838.5491842827373\n",
      "Total reward eval episode 195: -3982.3286881886033\n",
      "Total reward train episode 196: -4306.066412901346\n",
      "Total reward train episode 197: -3755.618199401542\n",
      "Total reward train episode 198: -3860.7228488863148\n",
      "Total reward train episode 199: -3680.460583915653\n"
     ]
    },
    {
     "data": {
      "image/png": "[encoded data removed]",
      "text/plain": [
       "<Figure size 600x400 with 1 Axes>"
      ]
     },
     "metadata": {
      "needs_background": "light"
     },
     "output_type": "display_data"
    },
    {
     "data": {
      "image/png": "[encoded data removed]",
      "text/plain": [
       "<Figure size 600x400 with 1 Axes>"
      ]
     },
     "metadata": {
      "needs_background": "light"
     },
     "output_type": "display_data"
    }
   ],
   "source": [
    "multigoal_env = MultiGoalEnv()\n",
    "naf_agent = naf_algo(multigoal_env)"
   ]
  },
  {
   "cell_type": "markdown",
   "id": "da896ada",
   "metadata": {
    "id": "da896ada"
   },
   "source": [
    "# Analyze the reward and loss plots. Explain the result."
   ]
  },
  {
   "cell_type": "markdown",
   "id": "d2ca3196",
   "metadata": {
    "id": "d2ca3196"
   },
   "source": [
    "..."
   ]
  },
  {
   "cell_type": "markdown",
   "id": "373ed727",
   "metadata": {
    "id": "373ed727"
   },
   "source": [
    "# Visualizing the value function\n",
    "In addition to the the loss plot and reward plot above, it can be helpfull to visualize the learned value function and or policy, to understand better what the agent learned. This is often straightforward in 2D environments, since a small 2D grid is still managable in terms of compute. As such, **visualize the value function learned by the NAF agent on the multigoal environment**. Does NAF's learned value function look similar to what you drew on the paper? Can you explain why the learned value function looks the way it does?"
   ]
  },
  {
   "cell_type": "code",
   "execution_count": null,
   "id": "fb618e2b",
   "metadata": {
    "colab": {
     "base_uri": "https://localhost:8080/",
     "height": 384
    },
    "id": "fb618e2b",
    "outputId": "084bc905-af55-48be-c0f3-90bac8ff848a"
   },
   "outputs": [
    {
     "data": {
      "text/plain": [
       "<matplotlib.image.AxesImage at 0x7f07aa0b6710>"
      ]
     },
     "execution_count": 7,
     "metadata": {},
     "output_type": "execute_result"
    },
    {
     "data": {
      "image/png": "[encoded data removed]",
      "text/plain": [
       "<Figure size 600x400 with 1 Axes>"
      ]
     },
     "metadata": {
      "needs_background": "light"
     },
     "output_type": "display_data"
    }
   ],
   "source": [
    "# YOUR CODE HERE\n",
    "import numpy as np\n",
    "import matplotlib.pyplot as plt\n",
    "\n",
    "size = 10\n",
    "xlist = torch.from_numpy(np.linspace(-size, size, 100))\n",
    "ylist = torch.from_numpy(np.linspace(-size, size, 100))\n",
    "\n",
    "img = np.zeros((100,100))\n",
    "\n",
    "for xi, x in enumerate(xlist):\n",
    "  for yi, y in enumerate(ylist):\n",
    "    _, _, v, _ = naf_agent.naf_net(torch.Tensor([x, y]).to(DEVICE))\n",
    "    img[xi ,yi] = v.item()\n",
    "\n",
    "\n",
    "plt.imshow(img)"
   ]
  },
  {
   "cell_type": "markdown",
   "id": "8fa9c3b2",
   "metadata": {
    "id": "8fa9c3b2"
   },
   "source": [
    "..."
   ]
  },
  {
   "cell_type": "markdown",
   "id": "7805e172",
   "metadata": {
    "id": "7805e172"
   },
   "source": [
    "# Visualizing trajectories\n",
    "In addition to the value function, we can inspect the trajectories generated by the policy. **Collect, plot and analyze some (10 - 50) trajectories from the policy**. Are the agent's trajectory similar to what you drew on the paper? Explain the result."
   ]
  },
  {
   "cell_type": "code",
   "execution_count": null,
   "id": "ecddb378",
   "metadata": {
    "id": "ecddb378"
   },
   "outputs": [],
   "source": [
    "multigoal_env.init_sigma = 0.4  # we increase the reset noise, so we get a bit more diverse starting positions...\n",
    "\n",
    "# YOUR CODE HERE"
   ]
  },
  {
   "cell_type": "markdown",
   "id": "11de1f1a",
   "metadata": {
    "id": "11de1f1a"
   },
   "source": [
    "..."
   ]
  },
  {
   "cell_type": "markdown",
   "id": "4153ee7f",
   "metadata": {
    "id": "4153ee7f"
   },
   "source": [
    "# Soft Q-Learning\n",
    "\n",
    "\n",
    "We now turn to the second algorithm we learned about that can deal with continuous state and action spaces: Soft Q-learning (SQL). SQL is based on two neural networks, one for the $Q$-function and one for the policy. These are plain MLPs, hence this time you don't have to implement the neural network. However, you must initialize these networks with the correct input and output sizes. Thus, **in the `init` method in the next cell, set the `q_in_size`, `q_out_size`, `asvgd_noise_size`, `pi_in_size`, and `pi_out_size` variables**. These are passed to the respective neural networks initalizations.\n",
    "\n",
    "Further, you will implement the update of the $Q$-function approximating neural network. This is relatively straightforward and based on the TD-error. **In the next cell, in the `td_update` method, calculate the loss for the $Q$-approximating network**. For this, you need to implement and consider the following equations. The soft value function:\n",
    "![sql_vsoft](notebook_imgs/SQL_v_soft.png)\n",
    "The soft value function's empirical estimate:\n",
    "![sql_empirical_vsoft](notebook_imgs/SQL_empirical_v_soft.png)\n",
    "And the minimization objective:\n",
    "![sql_JQ](notebook_imgs/SQL_jq.png)\n",
    "Note, that $\\hat{Q}^{\\bar\\theta}_{\\text{soft}} = r_t + \\gamma \\mathbb{E}_{s_{t+1}\\sim p_s}[ V^{\\bar\\theta}_{\\text{soft}}(s_{t+1}) ]$ and that $\\bar\\theta$ refers to the target network parameter.\n",
    "\n",
    "We implement the update of the policy network for you, because itrelies on a method not covered in the course, the Amortized Stein Variational Gradient Descent (ASVGD). ASVGD has gained increasing popularity in SOTA research and provides an interesting alternative to sampling methods like Markov Chain Monte Carlo or Metropolis Hastings. ASVGD moves a set of random particles such that, after convergence, they act like samples from the distribution of interest, and only requires access to the unnormalized density. You can take a look how this is implemented and how it updates the policy network in the `asvgd_update` method. If you are interested, we encourage you to take a look at the official [project website](https://www.cs.utexas.edu/~qlearning/project.html?p=svgd)."
   ]
  },
  {
   "cell_type": "code",
   "execution_count": null,
   "id": "7465230d",
   "metadata": {
    "id": "7465230d"
   },
   "outputs": [],
   "source": [
    "class SQLAgent:\n",
    "    \"\"\"\n",
    "    SQL agent, https://arxiv.org/pdf/1702.08165.pdf\n",
    "    \"\"\"\n",
    "    def __init__(self,\n",
    "                 n_states,\n",
    "                 n_actions,\n",
    "                 buffer,\n",
    "                 net_size,\n",
    "                 gamma,\n",
    "                 q_lr,\n",
    "                 asvgd_lr,\n",
    "                 hard_freq,\n",
    "                 reward_scale,\n",
    "                 n_particles,\n",
    "                 ):\n",
    "        \"\"\"\n",
    "        @param n_states: The dimensionality of the state space\n",
    "        @param n_actions: The dimensionality of the action space\n",
    "        @param buffer: An instance of a replay buffer\n",
    "        @param net_size: The width of the NAF network layers\n",
    "        @param gamma: The discount rate\n",
    "        @param q_lr: The learning rate for the q network\n",
    "        @param asvgd_lr: The learnign rate for the policy network\n",
    "        @param hard_freq: The hard update frequency of the q target network\n",
    "        @param reward_scale: The scale of the reward signal\n",
    "        @param n_particles: The number of particles used by ASVGD\n",
    "        \"\"\"\n",
    "        self.n_states = n_states\n",
    "        self.n_actions = n_actions\n",
    "        self.buffer = buffer\n",
    "        self.loss_fn = nn.MSELoss(reduction=\"mean\")\n",
    "        self.q_update_counter = 0\n",
    "        self.GAMMA = gamma\n",
    "        self.HARD_FREQ = hard_freq\n",
    "        self.loss_hist = []\n",
    "        self.reward_scale = reward_scale\n",
    "        self.noise_gen = OUNoise(n_actions)\n",
    "        self.n_particles = n_particles\n",
    "        \n",
    "        #  TODO: set these to the right values (these are all integers...)\n",
    "        # ---------------------\n",
    "        q_in_size = n_states + n_actions\n",
    "        q_out_size = 1\n",
    "        asvgd_noise_size = n_actions\n",
    "        pi_in_size = asvgd_noise_size + n_states\n",
    "        pi_out_size = n_actions\n",
    "        # ---------------------\n",
    "\n",
    "        # Q network\n",
    "        self.q_net = MLP(\n",
    "            in_size=q_in_size,\n",
    "            out_size=q_out_size,\n",
    "            layer_size=net_size,\n",
    "        ).to(DEVICE)\n",
    "\n",
    "        # target Q network\n",
    "        self.target_q_net = MLP(\n",
    "            in_size=q_in_size,\n",
    "            out_size=q_out_size,\n",
    "            layer_size=net_size,\n",
    "        ).to(DEVICE)\n",
    "        self.target_q_net.to(DEVICE)\n",
    "        self.target_q_net.load_state_dict(self.q_net.state_dict())\n",
    "\n",
    "        # policy sampling network\n",
    "        self.pi_net = MLP(\n",
    "            in_size=pi_in_size,\n",
    "            out_size=pi_out_size,\n",
    "            layer_size=net_size,\n",
    "        ).to(DEVICE)\n",
    "        self.asvgd_noise_size = asvgd_noise_size\n",
    "\n",
    "        self.q_optim = Adam(self.q_net.parameters(), lr=q_lr, weight_decay=0.01)\n",
    "        self.asvgd_optim = Adam(self.pi_net.parameters(), lr=asvgd_lr)\n",
    "\n",
    "    def td_update(self):\n",
    "        \"\"\"\n",
    "        Updates the Q network based on a batch of experiences drawn uniformly from the replay buffer\n",
    "        \"\"\"\n",
    "        if len(self.buffer.memory) < self.buffer.batch_size:\n",
    "            return\n",
    "\n",
    "        states, actions, rewards, next_states, dones = self.buffer.sample()\n",
    "        self.q_optim.zero_grad()\n",
    "\n",
    "        # predict q for batch\n",
    "        q = self.q_net.forward(torch.cat((states, actions), dim=1))\n",
    "\n",
    "        with torch.no_grad():\n",
    "            # TODO, calculate the 'target' aka 'desired' value J_Q(\\theta), so that we can minimize the loss \n",
    "            # between q and the target\n",
    "            # ---------------------\n",
    "            \n",
    "            proposal_actions = torch.tensor(\n",
    "                np.random.uniform(\n",
    "                    -1,\n",
    "                    1,\n",
    "                    size=(next_states.shape[0], self.n_actions)\n",
    "                )\n",
    "            ).to(torch.float32).to(DEVICE)\n",
    "            q_soft = self.target_q_net.forward(torch.cat((next_states, proposal_actions), dim=1))\n",
    "\n",
    "            v_soft = torch.logsumexp(q_soft, dim=1).unsqueeze(1)\n",
    "\n",
    "            v_soft += torch.log(torch.tensor([2]).to(DEVICE)) * self.n_actions\n",
    "\n",
    "            target = self.reward_scale * rewards + self.GAMMA * v_soft * (1-dones)\n",
    "\n",
    "        loss = self.loss_fn(q, target)\n",
    "        loss.backward()\n",
    "        self.q_optim.step()\n",
    "        self.loss_hist.append(loss.item())\n",
    "\n",
    "        self.q_update_counter += 1\n",
    "\n",
    "        # hard target network update\n",
    "        if self.q_update_counter % self.HARD_FREQ == 0:\n",
    "            self.target_q_net.load_state_dict(self.q_net.state_dict())\n",
    "            \n",
    "    def act(self, state):\n",
    "        \"\"\"\n",
    "        Helper function that constructs the input to the policy network.\n",
    "        This is done slightly differently depending on on the shape of the state tensor.\n",
    "        \"\"\"\n",
    "        if state.shape[0] == 1:\n",
    "            # environment interaction\n",
    "            zeta = torch.rand(self.n_particles, self.asvgd_noise_size).to(DEVICE)\n",
    "            state = state.repeat(self.n_particles, 1)\n",
    "            inp = torch.cat((state, zeta), dim=1)\n",
    "        else:\n",
    "            # batch update\n",
    "            zeta = torch.rand(state.shape[0], self.n_particles, self.asvgd_noise_size).to(DEVICE)\n",
    "            state = state.repeat(self.n_particles, 1, 1).movedim(1, 0)\n",
    "            inp = torch.cat((state, zeta), dim=2)\n",
    "\n",
    "        action = self.pi_net.forward(inp.to(torch.float32))\n",
    "\n",
    "        return action\n",
    "    \n",
    "    def rollout(self, env, episode, mode=\"train\"):\n",
    "        \"\"\"\n",
    "        Runs one episode and does a batch update after each step.\n",
    "        \"\"\"\n",
    "        obs, info = env.reset()\n",
    "        done = False\n",
    "        truncated = False\n",
    "        total_reward = 0\n",
    "\n",
    "        while not (done or truncated):\n",
    "            a = self.act(torch.from_numpy(obs).unsqueeze(0).to(torch.float32).to(DEVICE))\n",
    "            o_stack = obs_transform(torch.from_numpy(obs).unsqueeze(0), self.n_particles).to(torch.float32).to(DEVICE)\n",
    "            q = self.q_net.forward(torch.cat((o_stack, a), dim=1))\n",
    "            ind = torch.argmax(q)\n",
    "            action = a[ind]\n",
    "\n",
    "            if mode == \"train\":\n",
    "                action += torch.from_numpy(self.noise_gen.sample()).to(DEVICE)\n",
    "\n",
    "            action = transform_action(action, env)\n",
    "            new_obs, reward, done, truncated, info = env.step(action)\n",
    "            total_reward += reward\n",
    "\n",
    "            if mode == \"train\":\n",
    "                self.buffer.add(obs, action, reward, new_obs, done)\n",
    "                self.td_update()\n",
    "                self.asvgd_update()\n",
    "\n",
    "            if done or truncated:\n",
    "                print(f\"Total reward {mode} episode {episode}: {total_reward}\")\n",
    "                return total_reward\n",
    "\n",
    "            obs = new_obs\n",
    "\n",
    "    def asvgd_update(self):\n",
    "        \"\"\"\n",
    "        Updates the policy network using the ASVGD method on a batch of experiences drawn uniformly from the \n",
    "        replay buffer.\n",
    "        \"\"\"\n",
    "        if len(self.buffer.memory) < self.buffer.batch_size:\n",
    "            return\n",
    "\n",
    "        states, actions, rewards, next_states, dones = self.buffer.sample()\n",
    "\n",
    "        # as described in the appendix of SQL paper, we need two sets of actions\n",
    "        actions = self.act(states)\n",
    "        assert actions.shape == (states.shape[0], self.n_particles, self.n_actions)\n",
    "\n",
    "        fixed_actions = self.act(states)\n",
    "        fixed_actions = fixed_actions.detach()\n",
    "        fixed_actions.requires_grad = True\n",
    "\n",
    "        # target for sampler is q, aka unnormalized policy density, thanks to maximum entropy framework\n",
    "        state_stack = obs_transform(states, self.n_particles).to(DEVICE)\n",
    "        asvgd_target = self.q_net(torch.cat((state_stack, fixed_actions), dim=2))\n",
    "        log_p = asvgd_target\n",
    "\n",
    "        grad_log_p = torch.autograd.grad(log_p.sum().to(DEVICE), fixed_actions.to(DEVICE))[0]\n",
    "        grad_log_p = grad_log_p.unsqueeze(1)\n",
    "\n",
    "        kappa, kappa_grad = rbf_kernel2(actions, fixed_actions)\n",
    "        \n",
    "        # eq 13 in paper, stein gradient\n",
    "        actions_grad = (1/self.n_particles) * torch.sum(kappa * grad_log_p + kappa_grad, dim=1)\n",
    "        actions_grad.to(DEVICE)\n",
    "\n",
    "        self.asvgd_optim.zero_grad()\n",
    "        torch.autograd.backward(-actions, grad_tensors=actions_grad)  # this implements eq 14, chain rule backprop\n",
    "        self.asvgd_optim.step()"
   ]
  },
  {
   "cell_type": "markdown",
   "id": "84378d8d",
   "metadata": {
    "id": "84378d8d"
   },
   "source": [
    "With the update methods taken care of, as before, the only thing that is missing is the main loop. Also as before, we high suggest you don't change any of the hyperparameters until your SQL implementation is working."
   ]
  },
  {
   "cell_type": "code",
   "execution_count": null,
   "id": "23bfa39d",
   "metadata": {
    "id": "23bfa39d"
   },
   "outputs": [],
   "source": [
    "def sql_algo(env, reward_scale, n_particles):\n",
    "    # hyperparameters\n",
    "    TRAIN_EPISODES = 200\n",
    "    BATCH_SIZE = 64\n",
    "    NET_SIZE = 128\n",
    "    GAMMA = 0.99\n",
    "    Q_LR = 0.001\n",
    "    PI_LR = 0.0001\n",
    "    HARD_FREQ = 1000\n",
    "    \n",
    "    buffer = ReplayBuffer(\n",
    "        buffer_size=int(1e6),\n",
    "        batch_size=BATCH_SIZE,\n",
    "        device=DEVICE,\n",
    "    )\n",
    "    \n",
    "    agent = SQLAgent(\n",
    "        env.observation_space.shape[0],\n",
    "        env.action_space.shape[0],\n",
    "        buffer,\n",
    "        NET_SIZE,\n",
    "        GAMMA,\n",
    "        Q_LR,\n",
    "        PI_LR,\n",
    "        HARD_FREQ,\n",
    "        reward_scale,\n",
    "        n_particles\n",
    "    )\n",
    "    \n",
    "    # populate replay buffer with 10k random transitions\n",
    "    presample_env(env, agent.buffer, 10000)\n",
    "\n",
    "    # main loop\n",
    "    training_rewards = []\n",
    "    eval_rewards = []\n",
    "    eval_eps = []\n",
    "    for episode in range(TRAIN_EPISODES):        \n",
    "        tr = agent.rollout(env, episode)\n",
    "        training_rewards.append(tr)\n",
    "\n",
    "        if episode % 5 == 0:\n",
    "            er = agent.rollout(env, episode, mode=\"eval\")\n",
    "            eval_rewards.append(er)\n",
    "            eval_eps.append(episode)\n",
    "            \n",
    "    plot_loss(agent.loss_hist)\n",
    "    plot_reward(training_rewards, eval_rewards, eval_eps)\n",
    "    \n",
    "    return agent"
   ]
  },
  {
   "cell_type": "markdown",
   "id": "d1188095",
   "metadata": {
    "id": "d1188095"
   },
   "source": [
    "# Testing SQL on Pendulum environment\n",
    "As before, we first evaluate our implementation on the pendulum environment. The algorithm should be able to reach good performance (between 0 and -700) reward within 100 episodes."
   ]
  },
  {
   "cell_type": "code",
   "execution_count": null,
   "id": "59120c10",
   "metadata": {
    "id": "59120c10",
    "scrolled": true
   },
   "outputs": [],
   "source": [
    "pendulum_env = gym.make(\"Pendulum-v1\")\n",
    "sql_agent = sql_algo(pendulum_env, reward_scale=10, n_particles=32)"
   ]
  },
  {
   "cell_type": "markdown",
   "id": "bfc63bdf",
   "metadata": {
    "id": "bfc63bdf"
   },
   "source": [
    "# Testin SQL on Multigoal environment\n",
    "Once you have verified your SQL implementation, you can continue and test it on the multigoal environment.\n",
    "\n",
    "## Again, draw what you think the value function learned by SQL will look like. Also draw the trajectories you think SQL will generate.\n",
    "Again keep the paper for later comparison with the actual results."
   ]
  },
  {
   "cell_type": "code",
   "execution_count": null,
   "id": "7ca46cd5",
   "metadata": {
    "colab": {
     "base_uri": "https://localhost:8080/",
     "height": 1000
    },
    "id": "7ca46cd5",
    "outputId": "88607ad9-b113-481b-93e3-ee0dd35317cd",
    "scrolled": true
   },
   "outputs": [
    {
     "name": "stderr",
     "output_type": "stream",
     "text": [
      "/usr/local/lib/python3.7/dist-packages/gym/spaces/box.py:128: UserWarning: \u001b[33mWARN: Box bound precision lowered by casting to float32\u001b[0m\n",
      "  logger.warn(f\"Box bound precision lowered by casting to {self.dtype}\")\n"
     ]
    },
    {
     "name": "stdout",
     "output_type": "stream",
     "text": [
      "Presampling done\n",
      "Total reward train episode 0: -9647.34882495849\n",
      "Total reward eval episode 0: -12315.118458439687\n",
      "Total reward train episode 1: -1865.8946978536212\n",
      "Total reward train episode 2: -1937.912505435325\n",
      "Total reward train episode 3: -3946.2334714579897\n",
      "Total reward train episode 4: -3483.4248711005976\n",
      "Total reward train episode 5: -4095.9680117914913\n",
      "Total reward eval episode 5: -462.9705219196869\n",
      "Total reward train episode 6: -7159.494721157488\n",
      "Total reward train episode 7: -4050.741402661045\n",
      "Total reward train episode 8: -3811.785343602078\n",
      "Total reward train episode 9: -4111.712887116743\n",
      "Total reward train episode 10: -5382.767712062034\n",
      "Total reward eval episode 10: -951.6985877399993\n",
      "Total reward train episode 11: -2792.8089368293827\n",
      "Total reward train episode 12: -4505.982234838679\n",
      "Total reward train episode 13: -2584.401692901911\n",
      "Total reward train episode 14: -3834.095788303488\n",
      "Total reward train episode 15: -3226.399003213548\n",
      "Total reward eval episode 15: -585.7441120959157\n",
      "Total reward train episode 16: -2147.21846470291\n",
      "Total reward train episode 17: -6141.642254782227\n",
      "Total reward train episode 18: -4305.587298728757\n",
      "Total reward train episode 19: -3840.5724424499367\n",
      "Total reward train episode 20: -2622.587044267141\n",
      "Total reward eval episode 20: -557.2448770187664\n",
      "Total reward train episode 21: -3242.3216078706505\n",
      "Total reward train episode 22: -2136.9466494053167\n",
      "Total reward train episode 23: -2836.256399971377\n",
      "Total reward train episode 24: -2187.5145520161673\n",
      "Total reward train episode 25: -3485.5874603079546\n",
      "Total reward eval episode 25: -398.5984987579539\n",
      "Total reward train episode 26: -3663.3646888021485\n",
      "Total reward train episode 27: -4003.6809277055336\n",
      "Total reward train episode 28: -3805.5142976106113\n",
      "Total reward train episode 29: -3516.0780404856146\n",
      "Total reward train episode 30: -3636.6200275957317\n",
      "Total reward eval episode 30: -405.52611490971907\n",
      "Total reward train episode 31: -3176.874981528679\n",
      "Total reward train episode 32: -4761.962730654424\n",
      "Total reward train episode 33: -4029.4394865261393\n",
      "Total reward train episode 34: -3010.584170079036\n",
      "Total reward train episode 35: -3190.919643324485\n",
      "Total reward eval episode 35: -320.2269250020791\n",
      "Total reward train episode 36: -3081.717221583467\n",
      "Total reward train episode 37: -760.7340256519872\n",
      "Total reward train episode 38: -1787.1357906355136\n",
      "Total reward train episode 39: -2776.10013710166\n",
      "Total reward train episode 40: -4606.808276990847\n",
      "Total reward eval episode 40: -400.3647142000171\n",
      "Total reward train episode 41: -1928.6458479517685\n",
      "Total reward train episode 42: -3263.6999955672895\n",
      "Total reward train episode 43: -3700.163490642586\n",
      "Total reward train episode 44: -2267.4445690327047\n",
      "Total reward train episode 45: -2688.7169355461047\n",
      "Total reward eval episode 45: -287.0893154977317\n",
      "Total reward train episode 46: -3655.3821621838288\n",
      "Total reward train episode 47: -2310.818276016114\n",
      "Total reward train episode 48: -2810.845093909803\n",
      "Total reward train episode 49: -3180.368617648355\n",
      "Total reward train episode 50: -2417.4155019895825\n",
      "Total reward eval episode 50: -265.9687979490739\n",
      "Total reward train episode 51: -2027.2725575377112\n",
      "Total reward train episode 52: -2928.078015432896\n",
      "Total reward train episode 53: -2298.4821313328525\n",
      "Total reward train episode 54: -2889.7438776599333\n",
      "Total reward train episode 55: -2522.642697631385\n",
      "Total reward eval episode 55: -156.60700747010722\n",
      "Total reward train episode 56: -2736.645508141678\n",
      "Total reward train episode 57: -1646.8282150377909\n",
      "Total reward train episode 58: -2473.2703915569186\n",
      "Total reward train episode 59: -2107.7831812626464\n",
      "Total reward train episode 60: -276.88036521687235\n",
      "Total reward eval episode 60: -165.84576934863944\n",
      "Total reward train episode 61: -2410.3682300113283\n",
      "Total reward train episode 62: -1815.9535069493447\n",
      "Total reward train episode 63: -2540.356232938119\n",
      "Total reward train episode 64: -2606.700782237114\n",
      "Total reward train episode 65: -2095.770922569007\n",
      "Total reward eval episode 65: -220.7244186040729\n",
      "Total reward train episode 66: -2052.829404261722\n",
      "Total reward train episode 67: -2153.8376315956707\n",
      "Total reward train episode 68: -965.8068828515494\n",
      "Total reward train episode 69: -2391.1605938734774\n",
      "Total reward train episode 70: -2527.7874629763546\n",
      "Total reward eval episode 70: -134.6310731719894\n",
      "Total reward train episode 71: -1984.6466524881962\n",
      "Total reward train episode 72: -2180.4162381459864\n",
      "Total reward train episode 73: -1879.6750256532864\n",
      "Total reward train episode 74: -1912.6543305725902\n",
      "Total reward train episode 75: -1907.4926628482049\n",
      "Total reward eval episode 75: -212.01816798468997\n",
      "Total reward train episode 76: -1988.1670929270279\n",
      "Total reward train episode 77: -2462.379486043146\n",
      "Total reward train episode 78: -1761.7916406833442\n",
      "Total reward train episode 79: -2080.988056434076\n",
      "Total reward train episode 80: -2989.9828275451437\n",
      "Total reward eval episode 80: -165.3259785944112\n",
      "Total reward train episode 81: -2904.226650488023\n",
      "Total reward train episode 82: -2905.4493228138504\n",
      "Total reward train episode 83: -2444.159893045362\n",
      "Total reward train episode 84: -2061.266903903288\n",
      "Total reward train episode 85: -625.573717376565\n",
      "Total reward eval episode 85: -190.2304341435727\n",
      "Total reward train episode 86: -2023.1378507587235\n",
      "Total reward train episode 87: -3109.980825738139\n",
      "Total reward train episode 88: -2639.0274017009906\n",
      "Total reward train episode 89: -2329.855494833513\n",
      "Total reward train episode 90: -1644.4145212365\n",
      "Total reward eval episode 90: -215.79895169185215\n",
      "Total reward train episode 91: -1560.883691687277\n",
      "Total reward train episode 92: -1852.3060903857495\n",
      "Total reward train episode 93: -1656.112627572438\n",
      "Total reward train episode 94: -2362.453948845844\n",
      "Total reward train episode 95: -2253.8317696829677\n",
      "Total reward eval episode 95: -285.40364972549355\n",
      "Total reward train episode 96: -1762.0769386273807\n",
      "Total reward train episode 97: -2072.701499811955\n",
      "Total reward train episode 98: -2610.881807344999\n",
      "Total reward train episode 99: -2051.324813549757\n",
      "Total reward train episode 100: -1830.188994011637\n",
      "Total reward eval episode 100: -230.16512341358631\n",
      "Total reward train episode 101: -2117.7328247033224\n",
      "Total reward train episode 102: -2000.9718389656168\n",
      "Total reward train episode 103: -2395.8731448776384\n",
      "Total reward train episode 104: -1427.460792384116\n",
      "Total reward train episode 105: -1573.5928954813264\n",
      "Total reward eval episode 105: -151.42916473341444\n",
      "Total reward train episode 106: -1790.2934986855582\n",
      "Total reward train episode 107: -1811.2633346067937\n",
      "Total reward train episode 108: -2153.146221806376\n",
      "Total reward train episode 109: -2237.6138485014853\n",
      "Total reward train episode 110: -1714.1543055106529\n",
      "Total reward eval episode 110: -228.74392423427088\n",
      "Total reward train episode 111: -1988.7922166184187\n",
      "Total reward train episode 112: -2019.3711583303993\n",
      "Total reward train episode 113: -2051.6821590662007\n",
      "Total reward train episode 114: -1923.2347923738298\n",
      "Total reward train episode 115: -1899.1267795483009\n",
      "Total reward eval episode 115: -213.55873087726778\n",
      "Total reward train episode 116: -1679.4602730428428\n",
      "Total reward train episode 117: -1927.9633009990152\n",
      "Total reward train episode 118: -2090.7236242043264\n",
      "Total reward train episode 119: -1560.6603569119327\n",
      "Total reward train episode 120: -444.3099242170919\n",
      "Total reward eval episode 120: -190.21476439494072\n",
      "Total reward train episode 121: -1694.799041690815\n",
      "Total reward train episode 122: -1453.5543173698843\n",
      "Total reward train episode 123: -2113.8663823972615\n",
      "Total reward train episode 124: -1324.8077517227441\n",
      "Total reward train episode 125: -1818.934486647272\n",
      "Total reward eval episode 125: -151.34374552448008\n",
      "Total reward train episode 126: -1659.4354525869442\n",
      "Total reward train episode 127: -1521.1891625636345\n",
      "Total reward train episode 128: -1707.7794987945304\n",
      "Total reward train episode 129: -1693.0477801491334\n",
      "Total reward train episode 130: -1881.96840796082\n",
      "Total reward eval episode 130: -151.47284283102798\n",
      "Total reward train episode 131: -1487.9990415960667\n",
      "Total reward train episode 132: -2230.047918157483\n",
      "Total reward train episode 133: -2103.945716157246\n",
      "Total reward train episode 134: -1954.8767211011639\n",
      "Total reward train episode 135: -1467.2258238831707\n",
      "Total reward eval episode 135: -168.45933902336358\n",
      "Total reward train episode 136: -1349.6617399165923\n",
      "Total reward train episode 137: -1209.9828778745516\n",
      "Total reward train episode 138: -1760.5900096385992\n",
      "Total reward train episode 139: -1806.8424084237927\n",
      "Total reward train episode 140: -1652.9201873543627\n",
      "Total reward eval episode 140: -176.35612733634\n",
      "Total reward train episode 141: -1669.7633184247427\n",
      "Total reward train episode 142: -2043.0926020027455\n",
      "Total reward train episode 143: -1856.5886921023566\n",
      "Total reward train episode 144: -1038.0544188471808\n",
      "Total reward train episode 145: -1664.397844457485\n",
      "Total reward eval episode 145: -157.01504908619557\n",
      "Total reward train episode 146: -2344.822736050006\n",
      "Total reward train episode 147: -962.1236205633376\n",
      "Total reward train episode 148: -1011.3666140654602\n",
      "Total reward train episode 149: -1364.8970235634863\n",
      "Total reward train episode 150: -1654.8240457359375\n",
      "Total reward eval episode 150: -184.39930010085294\n",
      "Total reward train episode 151: -1343.647407649756\n",
      "Total reward train episode 152: -2063.321616012684\n",
      "Total reward train episode 153: -1715.978367066558\n",
      "Total reward train episode 154: -1602.9259849410087\n",
      "Total reward train episode 155: -1550.2741238817505\n",
      "Total reward eval episode 155: -198.3600401525534\n",
      "Total reward train episode 156: -1554.1383826226308\n",
      "Total reward train episode 157: -1171.8042877344756\n",
      "Total reward train episode 158: -2180.3535382072296\n",
      "Total reward train episode 159: -1494.2663278549303\n",
      "Total reward train episode 160: -1104.477708835966\n",
      "Total reward eval episode 160: -205.60400334956927\n",
      "Total reward train episode 161: -1636.6292690895848\n",
      "Total reward train episode 162: -1049.7178427208378\n",
      "Total reward train episode 163: -1325.8179773481481\n",
      "Total reward train episode 164: -1250.8480043199643\n",
      "Total reward train episode 165: -1309.1665932845212\n",
      "Total reward eval episode 165: -261.8886932778516\n",
      "Total reward train episode 166: -1073.8335428635637\n",
      "Total reward train episode 167: -1480.8616130124371\n",
      "Total reward train episode 168: -1351.3483310791014\n",
      "Total reward train episode 169: -1328.8112644183088\n",
      "Total reward train episode 170: -1296.3748310075052\n",
      "Total reward eval episode 170: -196.94709634854217\n",
      "Total reward train episode 171: -1124.5848947534666\n",
      "Total reward train episode 172: -1228.7822168731243\n",
      "Total reward train episode 173: -497.8963078473776\n",
      "Total reward train episode 174: -1124.2006264527636\n",
      "Total reward train episode 175: -1940.0426644264624\n",
      "Total reward eval episode 175: -191.50203829579576\n",
      "Total reward train episode 176: -1719.313395382864\n",
      "Total reward train episode 177: -1458.5045412072445\n",
      "Total reward train episode 178: -1436.5178653422997\n",
      "Total reward train episode 179: -1315.4856834776945\n",
      "Total reward train episode 180: -1655.1810985599022\n",
      "Total reward eval episode 180: -235.85414648510005\n",
      "Total reward train episode 181: -1957.5125235630803\n",
      "Total reward train episode 182: -1557.295043743578\n",
      "Total reward train episode 183: -1407.0406643427216\n",
      "Total reward train episode 184: -1725.6305666110893\n",
      "Total reward train episode 185: -1442.6569876145484\n",
      "Total reward eval episode 185: -215.11393443084435\n",
      "Total reward train episode 186: -1872.1353246597719\n",
      "Total reward train episode 187: -1502.1132492118863\n",
      "Total reward train episode 188: -1765.6404435445168\n",
      "Total reward train episode 189: -1426.0316264791031\n",
      "Total reward train episode 190: -1365.2563730523727\n",
      "Total reward eval episode 190: -207.23318501610345\n",
      "Total reward train episode 191: -1552.9117001001348\n",
      "Total reward train episode 192: -1482.7897941599106\n",
      "Total reward train episode 193: -1245.3995800384068\n",
      "Total reward train episode 194: -1341.8093696285243\n",
      "Total reward train episode 195: -1896.366252679241\n",
      "Total reward eval episode 195: -152.52210280881286\n",
      "Total reward train episode 196: -1802.5804679442122\n",
      "Total reward train episode 197: -1331.3844465571533\n",
      "Total reward train episode 198: -1241.4857518780905\n",
      "Total reward train episode 199: -1879.372386451857\n"
     ]
    },
    {
     "data": {
      "image/png": "[encoded data removed]",
      "text/plain": [
       "<Figure size 600x400 with 1 Axes>"
      ]
     },
     "metadata": {
      "needs_background": "light"
     },
     "output_type": "display_data"
    },
    {
     "data": {
      "image/png": "[encoded data removed]",
      "text/plain": [
       "<Figure size 600x400 with 1 Axes>"
      ]
     },
     "metadata": {
      "needs_background": "light"
     },
     "output_type": "display_data"
    }
   ],
   "source": [
    "multigoal_env = MultiGoalEnv()\n",
    "sql_agent = sql_algo(multigoal_env, reward_scale=1, n_particles=100)"
   ]
  },
  {
   "cell_type": "markdown",
   "id": "61bffd1e",
   "metadata": {
    "id": "61bffd1e"
   },
   "source": [
    "### Analyze the plots. Does SQL solve the multigoal environment? "
   ]
  },
  {
   "cell_type": "markdown",
   "id": "7613a1f4",
   "metadata": {
    "id": "7613a1f4"
   },
   "source": [
    "..."
   ]
  },
  {
   "cell_type": "markdown",
   "id": "67240080",
   "metadata": {
    "id": "67240080"
   },
   "source": [
    "# Visualizing the value function\n",
    "As before, **visualze the learned value function of the SQL agent**. How does it relate to the reward landscape we saw earlier? How does it compare to the value function learned by NAF? How does it compare to the value function you drew on the paper?"
   ]
  },
  {
   "cell_type": "code",
   "execution_count": null,
   "id": "0ad69885",
   "metadata": {
    "colab": {
     "base_uri": "https://localhost:8080/",
     "height": 384
    },
    "id": "0ad69885",
    "outputId": "b2ee984f-691d-4f2a-d927-2e6d94792818"
   },
   "outputs": [
    {
     "data": {
      "text/plain": [
       "<matplotlib.image.AxesImage at 0x7fda00b6aad0>"
      ]
     },
     "execution_count": 24,
     "metadata": {},
     "output_type": "execute_result"
    },
    {
     "data": {
      "image/png": "[encoded data removed]",
      "text/plain": [
       "<Figure size 600x400 with 1 Axes>"
      ]
     },
     "metadata": {
      "needs_background": "light"
     },
     "output_type": "display_data"
    }
   ],
   "source": [
    "# YOUR CODE HERE\n",
    "# YOUR CODE HERE\n",
    "import numpy as np\n",
    "import matplotlib.pyplot as plt\n",
    "\n",
    "size = 10\n",
    "xlist = torch.from_numpy(np.linspace(-size, size, 100))\n",
    "ylist = torch.from_numpy(np.linspace(-size, size, 100))\n",
    "\n",
    "img = np.zeros((100,100))\n",
    "\n",
    "for xi, x in enumerate(xlist):\n",
    "  for yi, y in enumerate(ylist):\n",
    "    #_, _, v, _ = sql_agent.q_net(torch.Tensor([x, y]).to(DEVICE))\n",
    "    state = torch.Tensor([x, y]).to(DEVICE)\n",
    "    states = []\n",
    "    for i in range(100):\n",
    "      states.append(state.tolist())\n",
    "    states = torch.Tensor(states).to(DEVICE)\n",
    "    proposal_actions = torch.tensor(\n",
    "      np.random.uniform(\n",
    "        -1,\n",
    "        1,\n",
    "        size=(100, 2)\n",
    "      )\n",
    "    ).to(torch.float32).to(DEVICE)\n",
    "    q_soft = sql_agent.q_net.forward(torch.cat((states, proposal_actions), dim=1))\n",
    "\n",
    "    v_soft = torch.logsumexp(q_soft, dim=0).unsqueeze(1)\n",
    "\n",
    "    v_soft += torch.log(torch.tensor([2]).to(DEVICE)) * 2 #self.n_actions\n",
    "    img[xi ,yi] = v_soft\n",
    "\n",
    "\n",
    "plt.imshow(img)"
   ]
  },
  {
   "cell_type": "markdown",
   "id": "26913d7a",
   "metadata": {
    "id": "26913d7a"
   },
   "source": [
    "# Visualizing the policy\n",
    "Now, lets also try to **visualize the policy network at interesting points in the environment**. These points coulde be $(0, 0), (\\pm 2, 0),$ or $(\\pm2.5, \\pm2.5)$. Construct the observation manually, feed it into the policy network and visualize the particles. Bonus points if you run KDE on the generated particles ;)\n",
    "What do you observe? How does the plot of the particles and the KDE explain the shortcomming of the NAF algorithm on the multigoal environment?"
   ]
  },
  {
   "cell_type": "code",
   "execution_count": null,
   "id": "7f4c3c81",
   "metadata": {
    "id": "7f4c3c81"
   },
   "outputs": [],
   "source": [
    "# YOUR CODE HERE"
   ]
  },
  {
   "cell_type": "markdown",
   "id": "8f1b9cf7",
   "metadata": {
    "id": "8f1b9cf7"
   },
   "source": [
    "..."
   ]
  },
  {
   "cell_type": "markdown",
   "id": "81bf85fc",
   "metadata": {
    "id": "81bf85fc"
   },
   "source": [
    "# Visualizing trajectories\n",
    "As we did before with NAF, lets explore trajectories taken by the learned SQL policy. **Collect, plot and analyze some (10 - 50) trajectories generated by the SQL agent**. Are the trajectories similar to what you drew on the paper? "
   ]
  },
  {
   "cell_type": "code",
   "execution_count": null,
   "id": "be6dc757",
   "metadata": {
    "id": "be6dc757"
   },
   "outputs": [],
   "source": [
    "# YOUR CODE HERE"
   ]
  },
  {
   "cell_type": "markdown",
   "id": "e183aeaa",
   "metadata": {
    "id": "e183aeaa"
   },
   "source": [
    "..."
   ]
  },
  {
   "cell_type": "markdown",
   "id": "707f4a29",
   "metadata": {
    "id": "707f4a29"
   },
   "source": [
    "# Optional tasks:\n",
    "If you are done with everything and there is time left, we encourage you to do some (or all) of the following tasks:\n",
    "+ Play with hyperparameters: For SQL, particularly interesting might be the reward scale, the number of particles used by the policy network with ASVGD, and the learning rates `Q_LR` and `PI_LR` (they might have an unespected relationship).\n",
    "+ Generally, varying the batch size, the network size, the loss functions, and the optimizers target update rate `TAU` or hard update frequncy `HARD_FREQ` can have intersting effects. A poor value can often render the RL algorithm completely incapable of learning a task, while a good value can speed up and stabilize training considerably. Try varying those parameters and note the effects.\n",
    "+ You can implement different explortation mechanisms. For example, the SQL implementation uses OU noise, which is a a form of temporally correlated noise and a rather powerful mechanism. How does SQL perform with, for example, epsilon greedy or Gaussian noise? In the same way, perhaps NAF can be improved by using OU noise instead of Gaussian or adaptive noise?\n",
    "+ Lastly, given the somewhat complex ASVGD update mechanism in the SQL policy update, you can implement a simpler method like Metropolis Hastings or Hamiltonian Monte Carlo to sample from the policy."
   ]
  }
 ],
 "metadata": {
  "accelerator": "GPU",
  "colab": {
   "provenance": []
  },
  "gpuClass": "standard",
  "kernelspec": {
   "display_name": "Python (myenv)",
   "language": "python",
   "name": "myenv"
  },
  "language_info": {
   "codemirror_mode": {
    "name": "ipython",
    "version": 3
   },
   "file_extension": ".py",
   "mimetype": "text/x-python",
   "name": "python",
   "nbconvert_exporter": "python",
   "pygments_lexer": "ipython3",
   "version": "3.10.8"
  }
 },
 "nbformat": 4,
 "nbformat_minor": 5
}
